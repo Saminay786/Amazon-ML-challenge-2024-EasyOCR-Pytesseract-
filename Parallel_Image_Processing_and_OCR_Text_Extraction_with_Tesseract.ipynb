{
  "cells": [
    {
      "cell_type": "markdown",
      "source": [
        "**1. Importing Libraries and Setting up Tesseract Path**\n",
        "The code begins by importing various essential libraries:\n",
        "\n",
        "1. pytesseract is used for Optical Character Recognition (OCR) to extract text from images.\n",
        "2. pandas is for data manipulation, especially working with data from Excel files.\n",
        "3. cv2 from OpenCV is for image processing, such as loading images and converting color.\n",
        "4. os is for interacting with the operating system, such as checking file existence.\n",
        "5. re is for regular expressions, potentially useful for text extraction.\n",
        "6. easyocr is another OCR tool to extract text.\n",
        "requests is for downloading images from URLs.\n",
        "7. numpy is for handling image arrays and numerical operations.\n",
        "8. ThreadPoolExecutor is for parallel processing, allowing multiple images to be processed simultaneously.\n",
        "9. openpyxl is for handling Excel files.\n",
        "\n",
        "Finally, the Tesseract OCR command path is set using pytesseract.pytesseract.tesseract_cmd to point to the installed Tesseract executable."
      ],
      "metadata": {
        "id": "lE1RAHCbweC3"
      },
      "id": "lE1RAHCbweC3"
    },
    {
      "cell_type": "code",
      "execution_count": null,
      "id": "f5f0a650-7125-459e-a1fc-2744e0a4a8a3",
      "metadata": {
        "id": "f5f0a650-7125-459e-a1fc-2744e0a4a8a3"
      },
      "outputs": [],
      "source": [
        "import pytesseract\n",
        "import pandas as pd\n",
        "import cv2\n",
        "import os\n",
        "import re\n",
        "import easyocr\n",
        "import requests\n",
        "import numpy as np\n",
        "from concurrent.futures import ThreadPoolExecutor\n",
        "from openpyxl import load_workbook\n",
        "pytesseract.pytesseract.tesseract_cmd= r\"C:\\\\Program Files\\\\Tesseract-OCR\\\\tesseract.exe\""
      ]
    },
    {
      "cell_type": "markdown",
      "id": "da2a7aff-1417-4cef-8e1b-afa9b4552b98",
      "metadata": {
        "id": "da2a7aff-1417-4cef-8e1b-afa9b4552b98"
      },
      "source": [
        "**2. Extracting Text from Grayscale Image Using Tesseract**\n",
        "\n",
        "Function: tesocr_img_to_text(gray_img)\n",
        "\n",
        "This function accepts a grayscale image as input and extracts text using pytesseract.\n",
        "\n",
        "It uses pytesseract.image_to_string(gray_img) to convert the image to text.\n",
        "\n",
        "If no text is found (the text is empty or whitespace), it returns \"error\".\n",
        "\n",
        "If an exception occurs during the OCR process, the function catches it and returns \"error\"."
      ]
    },
    {
      "cell_type": "code",
      "execution_count": null,
      "id": "51e3db80-0102-49f4-8b38-1da53a2e680b",
      "metadata": {
        "id": "51e3db80-0102-49f4-8b38-1da53a2e680b"
      },
      "outputs": [],
      "source": [
        "# extract text from grayscale image using tesseract\n",
        "def tesocr_img_to_text(gray_img):\n",
        "\n",
        "    try:\n",
        "        text = pytesseract.image_to_string(gray_img)\n",
        "        if not text.strip():  # Check if the extracted text is empty or whitespace\n",
        "            return \"error\"\n",
        "        return text\n",
        "    except Exception as e:\n",
        "        return \"error\"  # Return \"error\" if any exception occurs\n",
        "\n"
      ]
    },
    {
      "cell_type": "markdown",
      "source": [
        "**3. Processing and Downloading Images**\n",
        "\n",
        "Function: process_image(row)\n",
        "This function processes each image link provided in a row from a dataset.\n",
        "It starts by downloading the image from the given URL using the requests.get method.\n",
        "The image is converted into a NumPy array, then decoded with OpenCV’s cv2.imdecode function.\n",
        "\n",
        "Depending on the number of channels in the image, it either converts the image to grayscale or keeps it as is.\n",
        "The function rotates the image both clockwise and counterclockwise (90 and 270 degrees).\n",
        "\n",
        "Then, the function uses the tesocr_img_to_text method to extract text from:\n",
        "\n",
        "Grayscale image (tesocr_text_gray)\n",
        "\n",
        "Original color image (tesocr_text_color)\n",
        "\n",
        "Clockwise-rotated image (tesocr_text_cw)\n",
        "\n",
        "Counterclockwise-rotated image (tesocr_text_ccw)\n",
        "\n",
        "If the image processing is successful, the function returns the image link, group ID, entity name, and OCR text results from different orientations and conversions. If an error occurs, it returns None."
      ],
      "metadata": {
        "id": "KH0Tlaaux1QA"
      },
      "id": "KH0Tlaaux1QA"
    },
    {
      "cell_type": "code",
      "execution_count": null,
      "id": "2ad6a182-67b0-43d5-a758-c5397e060488",
      "metadata": {
        "id": "2ad6a182-67b0-43d5-a758-c5397e060488"
      },
      "outputs": [],
      "source": [
        "# Function to download and process each image\n",
        "def process_image(row):\n",
        "    try:\n",
        "        image_link = row['image_link']\n",
        "        group_id = row['group_id']\n",
        "        entity_name = row['entity_name']\n",
        "\n",
        "        response = requests.get(image_link)\n",
        "        arr = np.asarray(bytearray(response.content), dtype=np.uint8)\n",
        "        img = cv2.imdecode(arr, -1)  # Load the image as it is\n",
        "\n",
        "        # Check the number of channels in the image\n",
        "        if len(img.shape) == 3 and img.shape[2] == 3:\n",
        "            # Image has 3 channels (BGR), proceed with color conversion\n",
        "            gray_img = cv2.cvtColor(img, cv2.COLOR_BGR2GRAY)\n",
        "        else:\n",
        "            # Image is already grayscale or has a different number of channels\n",
        "            gray_img = img  # No need for conversion\n",
        "\n",
        "        # Rotate the image by 90 degrees clockwise\n",
        "        img_cw_90 = cv2.rotate(img, cv2.ROTATE_90_CLOCKWISE)\n",
        "\n",
        "        # Rotate the image by 270 degrees clockwise or 90 degrees counterclockwise\n",
        "        img_ccw_90 = cv2.rotate(img, cv2.ROTATE_90_COUNTERCLOCKWISE)\n",
        "\n",
        "        # Extract text using OCR\n",
        "        tesocr_text_gray = tesocr_img_to_text(gray_img)\n",
        "        tesocr_text_color = tesocr_img_to_text(img)\n",
        "        tesocr_text_cw = tesocr_img_to_text(img_cw_90)\n",
        "        tesocr_text_ccw = tesocr_img_to_text(img_ccw_90)\n",
        "\n",
        "        return [image_link, group_id, entity_name,easyocr_text_color, tesocr_text_color, tesocr_text_gray, tesocr_text_cw, tesocr_text_ccw]\n",
        "\n",
        "    except Exception as e:\n",
        "        # Return None in case of error, logging can be done outside\n",
        "        print(f\"Error processing image for link {row['image_link']}: {e}\")\n",
        "        return None\n"
      ]
    },
    {
      "cell_type": "markdown",
      "source": [
        "**4. Saving Data to an Excel File**\n",
        "\n",
        "Function: save_to_excel(data, output_file)\n",
        "This function takes the processed data and saves it to an Excel file.\n",
        "\n",
        "If the Excel file already exists, it appends the new data without overwriting the old data using the openpyxl engine.\n",
        "\n",
        "If the file does not exist, it creates a new Excel file and writes the data into it."
      ],
      "metadata": {
        "id": "5FfDVq26yuvw"
      },
      "id": "5FfDVq26yuvw"
    },
    {
      "cell_type": "code",
      "source": [
        "\n",
        "def save_to_excel(data, output_file):\n",
        "    # Create a DataFrame from the collected data\n",
        "    df = pd.DataFrame(data, columns=[\"image_link\", \"group_id\", \"entity_name\",\"easy_color\", \"tes_color\", \"tes_gray\", \"tes_cw\", \"tes_ccw\"])\n",
        "\n",
        "    # Append or write to the Excel file\n",
        "    if os.path.exists(output_file):\n",
        "        with pd.ExcelWriter(output_file, mode='a', engine='openpyxl', if_sheet_exists='overlay') as writer:\n",
        "            workbook = load_workbook(output_file)\n",
        "            sheet = workbook.active\n",
        "            startrow = sheet.max_row  # Get the last row\n",
        "            df.to_excel(writer, index=False, header=False, startrow=startrow)\n",
        "    else:\n",
        "        with pd.ExcelWriter(output_file, engine='openpyxl') as writer:\n",
        "            df.to_excel(writer, index=False)\n",
        "\n"
      ],
      "metadata": {
        "id": "zbZH1Quqysgn"
      },
      "id": "zbZH1Quqysgn",
      "execution_count": null,
      "outputs": []
    },
    {
      "cell_type": "markdown",
      "source": [
        "**5. Processing Images in Parallel**\n",
        "\n",
        "Function: process_images_in_parallel(excel_file, output_file)\n",
        "\n",
        "This is the main function that coordinates the entire process of downloading, processing, and saving images.\n",
        "It reads data from the input excel_file and uses ThreadPoolExecutor to process images in parallel with up to 8 threads (to increase efficiency).\n",
        "For each row of data in the Excel file, the process_image function is called to process the image link.\n",
        "Successfully processed images are stored in a list, and the code prints a progress update every 10 images.\n",
        "After all images have been processed, the results are saved to the output Excel file."
      ],
      "metadata": {
        "id": "2P1NA2Nlyzg8"
      },
      "id": "2P1NA2Nlyzg8"
    },
    {
      "cell_type": "code",
      "source": [
        "# Main process\n",
        "def process_images_in_parallel(excel_file, output_file):\n",
        "    data = []\n",
        "    processed_count = 0  # Track the number of successfully processed images\n",
        "\n",
        "    # Use ThreadPoolExecutor for parallel processing\n",
        "    with ThreadPoolExecutor(max_workers=8) as executor:\n",
        "        results = list(executor.map(process_image, [excel_file.iloc[i] for i in range(excel_file.shape[0])]))\n",
        "\n",
        "    # Filter out failed results (None)\n",
        "    for res in results:\n",
        "        if res is not None:\n",
        "            data.append(res)\n",
        "            processed_count += 1\n",
        "\n",
        "            # Track progress every 10 images\n",
        "            if processed_count % 10 == 0:\n",
        "                print(f\"{processed_count} images processed successfully.\")\n",
        "\n",
        "    # Save all results to Excel in one go\n",
        "    save_to_excel(data, output_file)\n",
        "\n",
        "    print(f'Completed processing {processed_count} images.')"
      ],
      "metadata": {
        "id": "lmnRRfHqy0Ox"
      },
      "id": "lmnRRfHqy0Ox",
      "execution_count": null,
      "outputs": []
    },
    {
      "cell_type": "code",
      "execution_count": null,
      "id": "563eb260-dea4-4400-8538-009524e82683",
      "metadata": {
        "id": "563eb260-dea4-4400-8538-009524e82683"
      },
      "outputs": [],
      "source": []
    }
  ],
  "metadata": {
    "kernelspec": {
      "display_name": "Python 3 (ipykernel)",
      "language": "python",
      "name": "python3"
    },
    "language_info": {
      "codemirror_mode": {
        "name": "ipython",
        "version": 3
      },
      "file_extension": ".py",
      "mimetype": "text/x-python",
      "name": "python",
      "nbconvert_exporter": "python",
      "pygments_lexer": "ipython3",
      "version": "3.10.14"
    },
    "colab": {
      "provenance": []
    }
  },
  "nbformat": 4,
  "nbformat_minor": 5
}